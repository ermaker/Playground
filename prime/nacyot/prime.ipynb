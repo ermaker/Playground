{
 "cells": [
  {
   "cell_type": "code",
   "execution_count": 20,
   "metadata": {
    "collapsed": false
   },
   "outputs": [
    {
     "data": {
      "text/plain": [
       "false"
      ]
     },
     "execution_count": 20,
     "metadata": {},
     "output_type": "execute_result"
    }
   ],
   "source": [
    "require 'prime'"
   ]
  },
  {
   "cell_type": "code",
   "execution_count": 21,
   "metadata": {
    "collapsed": false
   },
   "outputs": [
    {
     "data": {
      "text/plain": [
       "205126079"
      ]
     },
     "execution_count": 21,
     "metadata": {},
     "output_type": "execute_result"
    }
   ],
   "source": [
    "Prime.prime_division(123456789012345678901).last.first"
   ]
  },
  {
   "cell_type": "code",
   "execution_count": 22,
   "metadata": {
    "collapsed": false
   },
   "outputs": [
    {
     "data": {
      "text/plain": [
       ":sequence"
      ]
     },
     "execution_count": 22,
     "metadata": {},
     "output_type": "execute_result"
    }
   ],
   "source": [
    "def sequence(target)\n",
    "    yield i = 2\n",
    "    3.step(target, 2).lazy.each {|i| yield i}\n",
    "end"
   ]
  },
  {
   "cell_type": "code",
   "execution_count": 2,
   "metadata": {
    "collapsed": false
   },
   "outputs": [
    {
     "data": {
      "text/plain": [
       "[3, 5, 7, 9]"
      ]
     },
     "execution_count": 2,
     "metadata": {},
     "output_type": "execute_result"
    }
   ],
   "source": [
    "3.step(10, 2).to_a"
   ]
  },
  {
   "cell_type": "code",
   "execution_count": 3,
   "metadata": {
    "collapsed": false
   },
   "outputs": [
    {
     "name": "stdout",
     "output_type": "stream",
     "text": [
      "2\n",
      "3\n",
      "5\n",
      "7\n",
      "9\n"
     ]
    },
    {
     "data": {
      "text/plain": [
       "3"
      ]
     },
     "execution_count": 3,
     "metadata": {},
     "output_type": "execute_result"
    }
   ],
   "source": [
    "sequence(10){|i| puts i}"
   ]
  },
  {
   "cell_type": "code",
   "execution_count": 4,
   "metadata": {
    "collapsed": false
   },
   "outputs": [
    {
     "data": {
      "text/plain": [
       ":find_prime_factor"
      ]
     },
     "execution_count": 4,
     "metadata": {},
     "output_type": "execute_result"
    }
   ],
   "source": [
    "def find_prime_factor(number)\n",
    "    return [1, 1] if number == 1\n",
    "    \n",
    "    sequence(number) do |i|\n",
    "        return [number / i, i] if number % i == 0\n",
    "    end\n",
    "end"
   ]
  },
  {
   "cell_type": "code",
   "execution_count": 5,
   "metadata": {
    "collapsed": false
   },
   "outputs": [
    {
     "data": {
      "text/plain": [
       "[125, 2]"
      ]
     },
     "execution_count": 5,
     "metadata": {},
     "output_type": "execute_result"
    }
   ],
   "source": [
    "find_prime_factor(250)"
   ]
  },
  {
   "cell_type": "code",
   "execution_count": 6,
   "metadata": {
    "collapsed": false
   },
   "outputs": [
    {
     "data": {
      "text/plain": [
       ":prime_factors"
      ]
     },
     "execution_count": 6,
     "metadata": {},
     "output_type": "execute_result"
    }
   ],
   "source": [
    "def prime_factors(number)\n",
    "    target = [number]\n",
    "    factors = []\n",
    "    \n",
    "    until target.first == 1\n",
    "        target = find_prime_factor(target.first)\n",
    "        factors << target\n",
    "    end\n",
    "    \n",
    "    factors\n",
    "end"
   ]
  },
  {
   "cell_type": "code",
   "execution_count": 7,
   "metadata": {
    "collapsed": false
   },
   "outputs": [
    {
     "data": {
      "text/plain": [
       "[[8462696833, 71], [10086647, 839], [6857, 1471], [1, 6857]]"
      ]
     },
     "execution_count": 7,
     "metadata": {},
     "output_type": "execute_result"
    }
   ],
   "source": [
    "prime_factors(600851475143)"
   ]
  },
  {
   "cell_type": "code",
   "execution_count": 8,
   "metadata": {
    "collapsed": false
   },
   "outputs": [
    {
     "data": {
      "text/plain": [
       ":max_factor"
      ]
     },
     "execution_count": 8,
     "metadata": {},
     "output_type": "execute_result"
    }
   ],
   "source": [
    "def max_factor(number)\n",
    "    loop do\n",
    "        factor = find_prime_factor(number)\n",
    "        number = factor.first \n",
    "        return factor.last if number == 1\n",
    "    end\n",
    "end"
   ]
  },
  {
   "cell_type": "code",
   "execution_count": 9,
   "metadata": {
    "collapsed": false
   },
   "outputs": [
    {
     "data": {
      "text/plain": [
       "6857"
      ]
     },
     "execution_count": 9,
     "metadata": {},
     "output_type": "execute_result"
    }
   ],
   "source": [
    "max_factor(600851475143)"
   ]
  },
  {
   "cell_type": "code",
   "execution_count": 10,
   "metadata": {
    "collapsed": false,
    "scrolled": true
   },
   "outputs": [
    {
     "name": "stdout",
     "output_type": "stream",
     "text": [
      "      user     system      total        real\n",
      "\n",
      "  0.000000   0.000000   0.000000 (  0.000802)\n",
      "\n"
     ]
    }
   ],
   "source": [
    "require 'benchmark'\n",
    "\n",
    "puts Benchmark::CAPTION\n",
    "puts Benchmark.measure{max_factor(600851475143)}"
   ]
  },
  {
   "cell_type": "code",
   "execution_count": 18,
   "metadata": {
    "collapsed": false
   },
   "outputs": [
    {
     "name": "stderr",
     "output_type": "stream",
     "text": [
      "(pry):88: warning: already initialized constant BENCH_TIMES\n",
      "(pry):39: warning: previous definition of BENCH_TIMES was here\n"
     ]
    },
    {
     "data": {
      "text/plain": [
       "1"
      ]
     },
     "execution_count": 18,
     "metadata": {},
     "output_type": "execute_result"
    }
   ],
   "source": [
    "BENCH_TIMES = 1"
   ]
  },
  {
   "cell_type": "code",
   "execution_count": 19,
   "metadata": {
    "collapsed": false
   },
   "outputs": [
    {
     "name": "stdout",
     "output_type": "stream",
     "text": [
      "Rehearsal ----------------------------------------------\n",
      "Prime        2.140000   0.000000   2.140000 (  2.154592)\n",
      "max_factor  10.880000   0.020000  10.900000 ( 10.925708)\n",
      "------------------------------------ total: 13.040000sec\n",
      "\n",
      "                 user     system      total        real\n",
      "Prime        2.050000   0.010000   2.060000 (  2.053248)\n",
      "max_factor  10.610000   0.020000  10.630000 ( 10.668875)\n"
     ]
    },
    {
     "data": {
      "text/plain": [
       "[#<Benchmark::Tms:0x007fc7c911f9e8 @label=\"Prime\", @real=2.053248, @cstime=0.0, @cutime=0.0, @stime=0.010000000000000009, @utime=2.049999999999997, @total=2.059999999999997>, #<Benchmark::Tms:0x007fc7c905d370 @label=\"max_factor\", @real=10.668875, @cstime=0.0, @cutime=0.0, @stime=0.019999999999999907, @utime=10.61, @total=10.629999999999999>]"
      ]
     },
     "execution_count": 19,
     "metadata": {},
     "output_type": "execute_result"
    }
   ],
   "source": [
    "require \"benchmark\"\n",
    "\n",
    "Benchmark.bmbm do |bm|\n",
    "    bm.report(\"Prime\") do\n",
    "        BENCH_TIMES.times do\n",
    "            Prime.prime_division(123456789012345678901).last.first\n",
    "        end\n",
    "    end\n",
    "    \n",
    "    bm.report(\"max_factor\") do\n",
    "        BENCH_TIMES.times do\n",
    "            max_factor(123456789012345678901)\n",
    "        end\n",
    "    end\n",
    "end"
   ]
  },
  {
   "cell_type": "code",
   "execution_count": 13,
   "metadata": {
    "collapsed": false
   },
   "outputs": [
    {
     "data": {
      "text/plain": [
       "205126079"
      ]
     },
     "execution_count": 13,
     "metadata": {},
     "output_type": "execute_result"
    }
   ],
   "source": [
    "max_factor()"
   ]
  }
 ],
 "metadata": {
  "kernelspec": {
   "display_name": "Ruby 2.1.3",
   "language": "ruby",
   "name": "ruby2.1"
  },
  "language_info": {
   "name": "ruby",
   "version": "2.1.3"
  }
 },
 "nbformat": 4,
 "nbformat_minor": 0
}
